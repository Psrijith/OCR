{
 "cells": [
  {
   "cell_type": "code",
   "execution_count": 7,
   "id": "07b591fb",
   "metadata": {},
   "outputs": [
    {
     "name": "stdout",
     "output_type": "stream",
     "text": [
      "Collecting pywhatkit==4.6\n",
      "  Using cached pywhatkit-4.6-py3-none-any.whl (10 kB)\n",
      "Requirement already satisfied: pyautogui in c:\\users\\peddi\\appdata\\local\\programs\\python\\python311\\lib\\site-packages (from pywhatkit==4.6) (0.9.54)\n",
      "Requirement already satisfied: wikipedia in c:\\users\\peddi\\appdata\\local\\programs\\python\\python311\\lib\\site-packages (from pywhatkit==4.6) (1.4.0)\n",
      "Requirement already satisfied: requests in c:\\users\\peddi\\appdata\\local\\programs\\python\\python311\\lib\\site-packages (from pywhatkit==4.6) (2.28.2)\n",
      "Requirement already satisfied: Pillow in c:\\users\\peddi\\appdata\\local\\programs\\python\\python311\\lib\\site-packages (from pywhatkit==4.6) (10.0.0)\n",
      "Requirement already satisfied: pymsgbox in c:\\users\\peddi\\appdata\\local\\programs\\python\\python311\\lib\\site-packages (from pyautogui->pywhatkit==4.6) (1.0.9)\n",
      "Requirement already satisfied: pytweening>=1.0.4 in c:\\users\\peddi\\appdata\\local\\programs\\python\\python311\\lib\\site-packages (from pyautogui->pywhatkit==4.6) (1.0.7)\n",
      "Requirement already satisfied: pyscreeze>=0.1.21 in c:\\users\\peddi\\appdata\\local\\programs\\python\\python311\\lib\\site-packages (from pyautogui->pywhatkit==4.6) (0.1.30)\n",
      "Requirement already satisfied: pygetwindow>=0.0.5 in c:\\users\\peddi\\appdata\\local\\programs\\python\\python311\\lib\\site-packages (from pyautogui->pywhatkit==4.6) (0.0.9)\n",
      "Requirement already satisfied: mouseinfo in c:\\users\\peddi\\appdata\\local\\programs\\python\\python311\\lib\\site-packages (from pyautogui->pywhatkit==4.6) (0.1.3)\n",
      "Requirement already satisfied: charset-normalizer<4,>=2 in c:\\users\\peddi\\appdata\\local\\programs\\python\\python311\\lib\\site-packages (from requests->pywhatkit==4.6) (3.1.0)\n",
      "Requirement already satisfied: idna<4,>=2.5 in c:\\users\\peddi\\appdata\\local\\programs\\python\\python311\\lib\\site-packages (from requests->pywhatkit==4.6) (3.4)\n",
      "Requirement already satisfied: urllib3<1.27,>=1.21.1 in c:\\users\\peddi\\appdata\\local\\programs\\python\\python311\\lib\\site-packages (from requests->pywhatkit==4.6) (1.26.15)\n",
      "Requirement already satisfied: certifi>=2017.4.17 in c:\\users\\peddi\\appdata\\local\\programs\\python\\python311\\lib\\site-packages (from requests->pywhatkit==4.6) (2022.12.7)\n",
      "Requirement already satisfied: beautifulsoup4 in c:\\users\\peddi\\appdata\\local\\programs\\python\\python311\\lib\\site-packages (from wikipedia->pywhatkit==4.6) (4.12.2)\n",
      "Requirement already satisfied: pyrect in c:\\users\\peddi\\appdata\\local\\programs\\python\\python311\\lib\\site-packages (from pygetwindow>=0.0.5->pyautogui->pywhatkit==4.6) (0.2.0)\n",
      "Requirement already satisfied: soupsieve>1.2 in c:\\users\\peddi\\appdata\\local\\programs\\python\\python311\\lib\\site-packages (from beautifulsoup4->wikipedia->pywhatkit==4.6) (2.4.1)\n",
      "Requirement already satisfied: pyperclip in c:\\users\\peddi\\appdata\\local\\programs\\python\\python311\\lib\\site-packages (from mouseinfo->pyautogui->pywhatkit==4.6) (1.8.2)\n",
      "Installing collected packages: pywhatkit\n",
      "  Attempting uninstall: pywhatkit\n",
      "    Found existing installation: pywhatkit 5.4\n",
      "    Uninstalling pywhatkit-5.4:\n",
      "      Successfully uninstalled pywhatkit-5.4\n",
      "Successfully installed pywhatkit-4.6\n",
      "Note: you may need to restart the kernel to use updated packages.\n"
     ]
    },
    {
     "name": "stderr",
     "output_type": "stream",
     "text": [
      "\n",
      "[notice] A new release of pip is available: 23.1 -> 23.3.2\n",
      "[notice] To update, run: C:\\Users\\peddi\\AppData\\Local\\Programs\\Python\\Python311\\python.exe -m pip install --upgrade pip\n"
     ]
    }
   ],
   "source": [
    "pip install pywhatkit==4.6"
   ]
  },
  {
   "cell_type": "code",
   "execution_count": 9,
   "id": "de379757",
   "metadata": {},
   "outputs": [
    {
     "ename": "UnableToAccessApi",
     "evalue": "Unable to access Pywhatkit api right now",
     "output_type": "error",
     "traceback": [
      "\u001b[1;31m---------------------------------------------------------------------------\u001b[0m",
      "\u001b[1;31mUnableToAccessApi\u001b[0m                         Traceback (most recent call last)",
      "Cell \u001b[1;32mIn[9], line 3\u001b[0m\n\u001b[0;32m      1\u001b[0m \u001b[38;5;28;01mimport\u001b[39;00m \u001b[38;5;21;01mpywhatkit\u001b[39;00m \u001b[38;5;28;01mas\u001b[39;00m \u001b[38;5;21;01mkit\u001b[39;00m \n\u001b[1;32m----> 3\u001b[0m \u001b[43mkit\u001b[49m\u001b[38;5;241;43m.\u001b[39;49m\u001b[43mtext_to_handwriting\u001b[49m\u001b[43m(\u001b[49m\u001b[38;5;124;43m\"\u001b[39;49m\u001b[38;5;124;43mHope you are doing well\u001b[39;49m\u001b[38;5;124;43m\"\u001b[39;49m\u001b[43m,\u001b[49m\u001b[43m \u001b[49m\u001b[43msave_to\u001b[49m\u001b[38;5;241;43m=\u001b[39;49m\u001b[38;5;124;43m\"\u001b[39;49m\u001b[38;5;124;43mhandwriting.png\u001b[39;49m\u001b[38;5;124;43m\"\u001b[39;49m\u001b[43m,\u001b[49m\u001b[43mrgb\u001b[49m\u001b[43m \u001b[49m\u001b[38;5;241;43m=\u001b[39;49m\u001b[43m \u001b[49m\u001b[43m[\u001b[49m\u001b[38;5;241;43m0\u001b[39;49m\u001b[43m,\u001b[49m\u001b[38;5;241;43m0\u001b[39;49m\u001b[43m,\u001b[49m\u001b[38;5;241;43m0\u001b[39;49m\u001b[43m]\u001b[49m\u001b[43m)\u001b[49m  \n",
      "File \u001b[1;32m~\\AppData\\Local\\Programs\\Python\\Python311\\Lib\\site-packages\\pywhatkit\\handwriting.py:22\u001b[0m, in \u001b[0;36mtext_to_handwriting\u001b[1;34m(string, save_to, rgb)\u001b[0m\n\u001b[0;32m     20\u001b[0m         file\u001b[38;5;241m.\u001b[39mclose()\n\u001b[0;32m     21\u001b[0m \u001b[38;5;28;01melif\u001b[39;00m \u001b[38;5;241m400\u001b[39m \u001b[38;5;241m<\u001b[39m\u001b[38;5;241m=\u001b[39m status_code \u001b[38;5;241m<\u001b[39m\u001b[38;5;241m=\u001b[39m \u001b[38;5;241m599\u001b[39m:\n\u001b[1;32m---> 22\u001b[0m     \u001b[38;5;28;01mraise\u001b[39;00m exceptions\u001b[38;5;241m.\u001b[39mUnableToAccessApi(\u001b[38;5;124m\"\u001b[39m\u001b[38;5;124mUnable to access Pywhatkit api right now\u001b[39m\u001b[38;5;124m\"\u001b[39m)\n",
      "\u001b[1;31mUnableToAccessApi\u001b[0m: Unable to access Pywhatkit api right now"
     ]
    }
   ],
   "source": [
    "import pywhatkit as kit \n",
    "\n",
    "kit.text_to_handwriting(\"Hope you are doing well\", save_to=\"handwriting.png\",rgb = [0,0,0])  "
   ]
  },
  {
   "cell_type": "code",
   "execution_count": null,
   "id": "7b13784c",
   "metadata": {},
   "outputs": [],
   "source": []
  }
 ],
 "metadata": {
  "kernelspec": {
   "display_name": "Python 3 (ipykernel)",
   "language": "python",
   "name": "python3"
  },
  "language_info": {
   "codemirror_mode": {
    "name": "ipython",
    "version": 3
   },
   "file_extension": ".py",
   "mimetype": "text/x-python",
   "name": "python",
   "nbconvert_exporter": "python",
   "pygments_lexer": "ipython3",
   "version": "3.11.3"
  }
 },
 "nbformat": 4,
 "nbformat_minor": 5
}
